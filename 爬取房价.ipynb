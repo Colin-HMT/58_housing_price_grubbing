{
 "cells": [
  {
   "cell_type": "code",
   "execution_count": 1,
   "id": "afeedc2e-e32e-4f8d-adef-0d0dc653aa11",
   "metadata": {},
   "outputs": [],
   "source": [
    "import re\n",
    "import requests\n",
    "from bs4 import BeautifulSoup\n",
    "import lxml\n",
    "import pandas as pd\n",
    "import time\n",
    "import random"
   ]
  },
  {
   "cell_type": "code",
   "execution_count": null,
   "id": "5e50b92f-283c-47a7-b0ee-506c82f754d2",
   "metadata": {},
   "outputs": [],
   "source": [
    "json={\"漕泾\": 7073,\"枫泾\": 7071,\"金山工业区\": 20058,\"金山卫\": 21991,\"金山新城\": 7074,\"金山周边\": 7078,\"廊下\": 22012,\"吕巷\": 20060,\"山阳\": 20059,\"石化\": 21990,\"亭林\": 7072,\"兴塔\": 20061,\"张堰\": 20062,\"朱泾\": 7070,\"朱行\": 11614}\n",
    "citynm= list(json.keys())\n",
    "cityc= list(json.values())\n",
    "for cityname,citycode in zip(citynm,cityc):\n",
    "    fangjiaym=[]\n",
    "    fangjiaval=[]\n",
    "    for i in range(2008,2023):\n",
    "        headers={'User-Agent': 'Mozilla/5.0 (Windows NT 10.0; Win64; x64; rv:107.0) Gecko/20100101 Firefox/107.0'}\n",
    "        url = f'https://www.58.com/fangjiawang/shi-{i}-101/sq-{citycode}/'\n",
    "        response = requests.get(url=url, headers=headers)\n",
    "        bs_duixiang = BeautifulSoup(response.text,\"lxml\")\n",
    "        fangjiabox = bs_duixiang.find_all('div',class_='p-c-w mt15')\n",
    "        if len(fangjiabox) == 0:\n",
    "            continue\n",
    "        else:\n",
    "            fangjiaym1 = re.findall('<b data-v-2a40ba50=\"\">(.*?)</b>',str(fangjiabox),re.S)\n",
    "            fangjiaval1 = re.findall('<span data-v-2a40ba50=\"\">(.*?)</span>',str(fangjiabox),re.S)\n",
    "            fangjiaym.extend(fangjiaym1)\n",
    "            fangjiaval.extend(fangjiaval1)\n",
    "        time.sleep(random.randint(5,15))\n",
    "    data=zip(fangjiaym,fangjiaval)\n",
    "    df = pd.DataFrame(data=data)\n",
    "    df = (df.T)\n",
    "    df.to_excel(f'{cityname}.xlsx')\n",
    "    time.sleep(random.randint(20,40))"
   ]
  }
 ],
 "metadata": {
  "kernelspec": {
   "display_name": "Python 3 (ipykernel)",
   "language": "python",
   "name": "python3"
  },
  "language_info": {
   "codemirror_mode": {
    "name": "ipython",
    "version": 3
   },
   "file_extension": ".py",
   "mimetype": "text/x-python",
   "name": "python",
   "nbconvert_exporter": "python",
   "pygments_lexer": "ipython3",
   "version": "3.9.13"
  }
 },
 "nbformat": 4,
 "nbformat_minor": 5
}
