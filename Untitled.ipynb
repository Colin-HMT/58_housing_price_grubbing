{
 "cells": [
  {
   "cell_type": "code",
   "execution_count": 1,
   "id": "afeedc2e-e32e-4f8d-adef-0d0dc653aa11",
   "metadata": {},
   "outputs": [],
   "source": [
    "import re\n",
    "import requests\n",
    "from bs4 import BeautifulSoup\n",
    "import lxml\n",
    "import pandas as pd\n",
    "import time"
   ]
  },
  {
   "cell_type": "code",
   "execution_count": null,
   "id": "117ce807-35a8-4623-bc3a-c1cd6e0c471e",
   "metadata": {},
   "outputs": [
    {
     "name": "stdout",
     "output_type": "stream",
     "text": [
      "           0          1          2          3          4          5   \\\n",
      "0  2019年12月房价  2020年1月房价  2020年2月房价  2020年3月房价  2020年4月房价  2020年5月房价   \n",
      "1    10572元/㎡   10398元/㎡   10422元/㎡   10095元/㎡   10326元/㎡   10689元/㎡   \n",
      "\n",
      "          6          7          8          9   ...         27         28  \\\n",
      "0  2020年6月房价  2020年7月房价  2020年8月房价  2020年9月房价  ...  2022年3月房价  2022年4月房价   \n",
      "1   10765元/㎡   10727元/㎡   10737元/㎡   10636元/㎡  ...    9864元/㎡    9700元/㎡   \n",
      "\n",
      "          29         30         31         32         33          34  \\\n",
      "0  2022年5月房价  2022年6月房价  2022年7月房价  2022年8月房价  2022年9月房价  2022年10月房价   \n",
      "1    9646元/㎡    9724元/㎡    9596元/㎡    9278元/㎡    9769元/㎡     9522元/㎡   \n",
      "\n",
      "           35          36  \n",
      "0  2022年11月房价  2022年12月房价  \n",
      "1     9711元/㎡     9711元/㎡  \n",
      "\n",
      "[2 rows x 37 columns]\n",
      "           0          1          2          3          4          5   \\\n",
      "0  2019年12月房价  2020年1月房价  2020年2月房价  2020年3月房价  2020年4月房价  2020年5月房价   \n",
      "1    12960元/㎡   13066元/㎡   13683元/㎡   12875元/㎡   12879元/㎡   12407元/㎡   \n",
      "\n",
      "          6          7          8          9   ...         27         28  \\\n",
      "0  2020年6月房价  2020年7月房价  2020年8月房价  2020年9月房价  ...  2022年3月房价  2022年4月房价   \n",
      "1   12405元/㎡   12226元/㎡   12330元/㎡   12783元/㎡  ...   13265元/㎡   13344元/㎡   \n",
      "\n",
      "          29         30         31         32         33          34  \\\n",
      "0  2022年5月房价  2022年6月房价  2022年7月房价  2022年8月房价  2022年9月房价  2022年10月房价   \n",
      "1   13977元/㎡   15687元/㎡   16050元/㎡   14266元/㎡   14262元/㎡    13918元/㎡   \n",
      "\n",
      "           35          36  \n",
      "0  2022年11月房价  2022年12月房价  \n",
      "1    14005元/㎡    13789元/㎡  \n",
      "\n",
      "[2 rows x 37 columns]\n"
     ]
    }
   ],
   "source": [
    "json={\"漕泾\": 7073,\"枫泾\": 7071,\"金山工业区\": 20058,\"金山卫\": 21991,\"金山新城\": 7074,\"金山周边\": 7078,\"廊下\": 22012,\"吕巷\": 20060,\"山阳\": 20059,\"石化\": 21990,\"亭林\": 7072,\"兴塔\": 20061,\"张堰\": 20062,\"朱泾\": 7070,\"朱行\": 11614}\n",
    "citynm= list(json.keys())\n",
    "cityc= list(json.values())\n",
    "for cityname,citycode in zip(citynm,cityc):\n",
    "    fangjiaym=[]\n",
    "    fangjiaval=[]\n",
    "    for i in range(2008,2023):\n",
    "        headers={'User-Agent': 'Mozilla/5.0 (Windows NT 10.0; Win64; x64; rv:107.0) Gecko/20100101 Firefox/107.0'}\n",
    "        url = f'https://www.58.com/fangjiawang/shi-{i}-101/sq-{citycode}/'\n",
    "        response = requests.get(url=url, headers=headers)\n",
    "        bs_duixiang = BeautifulSoup(response.text,\"lxml\")\n",
    "        fangjiabox = bs_duixiang.find_all('div',class_='p-c-w mt15')\n",
    "        if len(fangjiabox) == 0:\n",
    "            continue\n",
    "        else:\n",
    "            fangjiaym1 = re.findall('<b data-v-2a40ba50=\"\">(.*?)</b>',str(fangjiabox),re.S)\n",
    "            fangjiaval1 = re.findall('<span data-v-2a40ba50=\"\">(.*?)</span>',str(fangjiabox),re.S)\n",
    "            fangjiaym.extend(fangjiaym1)\n",
    "            fangjiaval.extend(fangjiaval1)\n",
    "        time.sleep(5)\n",
    "\n",
    "    data=zip(fangjiaym,fangjiaval)\n",
    "    df = pd.DataFrame(data=data)\n",
    "    df = (df.T)\n",
    "    print (df)\n",
    "    df.to_excel(f'{cityname}.xlsx')\n",
    "    time.sleep(20)"
   ]
  },
  {
   "cell_type": "code",
   "execution_count": null,
   "id": "737bd745-e785-439a-994e-97476460c94b",
   "metadata": {},
   "outputs": [],
   "source": []
  }
 ],
 "metadata": {
  "kernelspec": {
   "display_name": "Python 3 (ipykernel)",
   "language": "python",
   "name": "python3"
  },
  "language_info": {
   "codemirror_mode": {
    "name": "ipython",
    "version": 3
   },
   "file_extension": ".py",
   "mimetype": "text/x-python",
   "name": "python",
   "nbconvert_exporter": "python",
   "pygments_lexer": "ipython3",
   "version": "3.9.13"
  }
 },
 "nbformat": 4,
 "nbformat_minor": 5
}
